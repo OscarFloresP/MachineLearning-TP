{
  "nbformat": 4,
  "nbformat_minor": 0,
  "metadata": {
    "colab": {
      "provenance": [],
      "collapsed_sections": [],
      "authorship_tag": "ABX9TyMXWypRPj2YDdIssMD6UmFp",
      "include_colab_link": true
    },
    "kernelspec": {
      "name": "python3",
      "display_name": "Python 3"
    },
    "language_info": {
      "name": "python"
    }
  },
  "cells": [
    {
      "cell_type": "markdown",
      "metadata": {
        "id": "view-in-github",
        "colab_type": "text"
      },
      "source": [
        "<a href=\"https://colab.research.google.com/github/OscarFloresP/MachineLearning-TP/blob/main/ML_TP_Grupo_6.ipynb\" target=\"_parent\"><img src=\"https://colab.research.google.com/assets/colab-badge.svg\" alt=\"Open In Colab\"/></a>"
      ]
    },
    {
      "cell_type": "markdown",
      "source": [
        "# Machine Learning - TA y TB \n",
        "\n",
        "+ Alessandro Carhuancho - u201913933\n",
        "+ Oscar Flores - u201716498"
      ],
      "metadata": {
        "id": "c7MF0JxfyfH9"
      }
    },
    {
      "cell_type": "markdown",
      "source": [
        "### Archivo de ejemplo"
      ],
      "metadata": {
        "id": "ezzcb9Y5ydf2"
      }
    },
    {
      "cell_type": "code",
      "source": [
        "%%writefile sample.off\n",
        "OFF\n",
        "8 6 0\n",
        "-0.500000 -0.500000 0.500000\n",
        "0.500000 -0.500000 0.500000\n",
        "-0.500000 0.500000 0.500000\n",
        "0.500000 0.500000 0.500000\n",
        "-0.500000 0.500000 -0.500000\n",
        "0.500000 0.500000 -0.500000\n",
        "-0.500000 -0.500000 -0.500000\n",
        "0.500000 -0.500000 -0.500000\n",
        "4 0 1 3 2\n",
        "4 2 3 5 4\n",
        "4 4 5 7 6\n",
        "4 6 7 1 0\n",
        "4 1 7 5 3\n",
        "4 6 0 2 4"
      ],
      "metadata": {
        "colab": {
          "base_uri": "https://localhost:8080/"
        },
        "id": "rNePIPTPJytZ",
        "outputId": "22db7748-fec9-431b-ba21-d3be04c93466"
      },
      "execution_count": 1,
      "outputs": [
        {
          "output_type": "stream",
          "name": "stdout",
          "text": [
            "Writing sample.off\n"
          ]
        }
      ]
    },
    {
      "cell_type": "markdown",
      "source": [
        "### Lectura y escritura de archivo STL binario\n",
        "\n",
        "Versión de código extraída y modificada de: \\\n",
        "> Christoph, S. (2021). Tweaker - Auto Rotation Module for FDM 3D Printing (Version v3.9.1) [Computer software]. https://doi.org/10.13140/RG.2.2.27593.36966\n"
      ],
      "metadata": {
        "id": "o5Xq72C0z-bG"
      }
    },
    {
      "cell_type": "code",
      "source": [
        "import sys\n",
        "import os\n",
        "import struct\n",
        "import time\n",
        "import traceback\n",
        "import numpy as np"
      ],
      "metadata": {
        "id": "Kh1LC_170u8X"
      },
      "execution_count": 2,
      "outputs": []
    },
    {
      "cell_type": "code",
      "source": [
        "class StlbFileHandler:\n",
        "    def __init__(self):\n",
        "        pass\n",
        "\n",
        "    @staticmethod\n",
        "    def load_binary_stl(filename:str):\n",
        "        \"\"\"Load the content of a binary STL file.\"\"\"\n",
        "        fh = open(filename,\"rb\")\n",
        "        fh.seek(5, os.SEEK_SET)\n",
        "        # Skip the header\n",
        "        fh.read(80 - 5)\n",
        "        face_count = struct.unpack('<I', fh.read(4))[0]\n",
        "        objects = dict()\n",
        "        objects[0] = {\"mesh\": list(), \"name\": \"binary file\"}\n",
        "        for idx in range(0, face_count):\n",
        "            data = struct.unpack(\"<ffffffffffffH\", fh.read(50))\n",
        "            objects[0][\"mesh\"].append([data[3], data[4], data[5]])\n",
        "            objects[0][\"mesh\"].append([data[6], data[7], data[8]])\n",
        "            objects[0][\"mesh\"].append([data[9], data[10], data[11]])\n",
        "        return objects\n",
        "\n",
        "    @classmethod\n",
        "    def write_mesh(cls, objects, outputfile):\n",
        "        header = \"Tweaked on {}\".format(time.strftime(\"%a %d %b %Y %H:%M:%S\")\n",
        "                                        ).encode().ljust(79, b\" \") + b\"\\n\"\n",
        "        for part, content in objects.items():\n",
        "            mesh = objects[part][\"mesh\"]\n",
        "            partlength = int(len(mesh) / 3)\n",
        "            mesh = cls.rotate_bin_stl(mesh)\n",
        "\n",
        "            if len(objects.keys()) == 1:\n",
        "                outname = outputfile\n",
        "            else:\n",
        "                outname = \".\".join(outputfile.split(\".\")[:-1]) + \"_{}.stl\".format(part)\n",
        "            length = struct.pack(\"<I\", partlength)\n",
        "            with open(outname, 'wb') as outfile:\n",
        "                outfile.write(bytearray(header + length + b\"\".join(mesh)))\n",
        "\n",
        "    @classmethod\n",
        "    def rotate_bin_stl(cls, content):\n",
        "        mesh = np.array(content, dtype=np.float64)\n",
        "\n",
        "        # prefix area vector, if not already done (e.g. in STL format)\n",
        "        if len(mesh[0]) == 3:\n",
        "            row_number = int(len(content) / 3)\n",
        "            mesh = mesh.reshape(row_number, 3, 3)\n",
        "\n",
        "        v0 = mesh[:, 0, :]\n",
        "        v1 = mesh[:, 1, :]\n",
        "        v2 = mesh[:, 2, :]\n",
        "        normals = np.cross(np.subtract(v1, v0), np.subtract(v2, v0)\n",
        "                           ).reshape(int(len(mesh)), 1, 3)\n",
        "        mesh = np.hstack((normals, mesh))\n",
        "        mesh = list(map(cls.write_bin_facett, mesh))\n",
        "\n",
        "        return mesh\n",
        "\n",
        "    @staticmethod\n",
        "    def write_bin_facett(facett):\n",
        "        tweaked = struct.pack(\"<fff\", facett[0][0], facett[0][1], facett[0][2])\n",
        "        tweaked += struct.pack(\"<fff\", facett[1][0], facett[1][1], facett[1][2])\n",
        "        tweaked += struct.pack(\"<fff\", facett[2][0], facett[2][1], facett[2][2])\n",
        "        tweaked += struct.pack(\"<fff\", facett[3][0], facett[3][1], facett[3][2])\n",
        "        tweaked += struct.pack(\"<H\", 0)\n",
        "\n",
        "        return tweaked"
      ],
      "metadata": {
        "id": "EVY6qj2s1L3L"
      },
      "execution_count": 3,
      "outputs": []
    },
    {
      "cell_type": "markdown",
      "source": [
        "### Lectura, Escritura y Conversión de archivos OFF, OBJ y STL (ASCII y binario)\n",
        "\n",
        "Se usa el anterior módulo como liberia para los archivos binarios"
      ],
      "metadata": {
        "id": "SmVpP13Wy3ju"
      }
    },
    {
      "cell_type": "code",
      "source": [
        "import itertools\n",
        "from enum import Enum"
      ],
      "metadata": {
        "id": "NeoVOmuzIJ2S"
      },
      "execution_count": 4,
      "outputs": []
    },
    {
      "cell_type": "code",
      "source": [
        "class Filetype:\n",
        "    class FT(str, Enum):\n",
        "        OFF = 'off'\n",
        "        OBJ = 'obj'\n",
        "        STL = 'stl'\n",
        "\n",
        "    class Utils:\n",
        "        @staticmethod\n",
        "        def off_wrap(vertices:list, faces:list):\n",
        "            return [\"OFF\"] + [f\"{len(vertices)} {len(faces)} 0\"] + vertices + faces\n",
        "\n",
        "        @staticmethod\n",
        "        def off_polygon2triangle(polygon_as:str):\n",
        "            # ignore the first 2 characters as this are NVertices\n",
        "            poly = [ i for i in polygon_as[2:].split()]\n",
        "            return [[poly[0], b, c] for b, c in zip(poly[1:], poly[2:])]\n",
        "\n",
        "        @staticmethod\n",
        "        def stl_ascii_wrap(lines:list):\n",
        "            return [\"solid model\"] + lines + [\"endsolid model\"]\n"
      ],
      "metadata": {
        "id": "5FPYYKD37tBq"
      },
      "execution_count": 5,
      "outputs": []
    },
    {
      "cell_type": "code",
      "source": [
        "class BaseIO:\n",
        "    @staticmethod\n",
        "    def read(filename:str) -> str:  \n",
        "        with open(filename, 'r') as fh:\n",
        "            content = fh.read()\n",
        "        return content\n",
        "\n",
        "    @staticmethod\n",
        "    def writelines(filename:str, lines:list):\n",
        "        with open(filename, 'w') as fh:\n",
        "            for line in lines:\n",
        "                fh.write(line + \"\\n\")"
      ],
      "metadata": {
        "id": "-WzCJTmSouHy"
      },
      "execution_count": 6,
      "outputs": []
    },
    {
      "cell_type": "code",
      "source": [
        "class Parser(BaseIO, Filetype.Utils):\n",
        "    def __map_methods__(self):\n",
        "        self.__r__ = { 'off': self.from_off, 'obj': self.from_obj, 'stl': self.from_stl }\n",
        "        self.__w__ = { 'off': self.to_off, 'obj': self.to_obj, 'stl': self.to_stl }\n",
        "\n",
        "    # Read data and preserve faces and vertices information\n",
        "    def __init__(self, filename:str, ft:Filetype.FT, stlb=False):\n",
        "        self.__map_methods__()\n",
        "        self.ft, self.filename = ft, filename\n",
        "        if stlb and ft.value == \"stl\":\n",
        "            self.from_stl_bin()\n",
        "        else:\n",
        "            self.__r__[ft.value](self.read(filename).splitlines())\n",
        "\n",
        "    def write(self, ft:Filetype.FT, new_filename=\"\", stlb=False):\n",
        "        if stlb and ft.value == \"stl\":\n",
        "            self.to_stl_bin(new_filename)\n",
        "        else:\n",
        "            self.__w__[ft.value](new_filename)\n",
        "\n",
        "    @staticmethod\n",
        "    def new_filename(filename:str, new_filename:str, ft:Filetype.FT):\n",
        "        if new_filename == \"\":\n",
        "            extension, name = ft.value, filename.split('.')\n",
        "            if len(name) > 1:\n",
        "                return \".\".join(name[:-1] + [extension])\n",
        "            return \".\".join(name + [extension])\n",
        "        return new_filename\n",
        "\n",
        "    def from_off(self, lines: list):\n",
        "        numVertices = int(lines[1][0])\n",
        "        # get vertices and faces\n",
        "        self.vertices = [line.split() for line in lines[2: numVertices + 2]]\n",
        "        # get faces, but parse polygons into triangles\n",
        "        triangles = [self.off_polygon2triangle(line) for line in lines[numVertices + 2:]]\n",
        "        self.triangles = list( itertools.chain(*triangles) )\n",
        "\n",
        "    def from_obj(self, lines: list):\n",
        "        self.vertices = [ line.split()[1:] for line in lines if line[0] == \"v\" ]\n",
        "        self.triangles = [ line.split()[1:]  for line in lines if line[0] == \"f\" ]\n",
        "\n",
        "    def from_stl(self, lines: list):\n",
        "        temp = [ line.split()[1:] for line in lines if line.split()[0] == \"vertex\" ]\n",
        "        self.vertices = [ list(xyz) for xyz in set([ tuple(e) for e in temp]) ]\n",
        "        mapv = { tuple(xyz): str(i) for i, xyz in enumerate(self.vertices) }\n",
        "        self.triangles = [ [mapv[tuple(temp[k + i])] for i in range(3)] for k in range(0, len(temp), 3) ]      \n",
        "\n",
        "    def from_stl_bin(self):\n",
        "        temp = StlbFileHandler.load_binary_stl(self.filename)[0][\"mesh\"]\n",
        "        self.vertices = [ [str(e) for e in xyz] for xyz in set([ tuple(e) for e in temp]) ]\n",
        "        # print(self.vertices)\n",
        "        mapv = { tuple(xyz): str(i) for i, xyz in enumerate(self.vertices) }\n",
        "        # print(mapv)\n",
        "        self.triangles = [ [mapv[tuple([ str(e) for e in temp[k + i]])] for i in range(3)] for k in range(0, len(temp), 3) ] \n",
        "\n",
        "    def to_off(self, new_filename:str):\n",
        "        new_filename = self.new_filename(self.filename, new_filename, Filetype.FT.OFF)\n",
        "        vertices = [ (\" \".join([xyz for xyz in vertex])) for vertex in self.vertices ]\n",
        "        faces = [ (\"3 \"+\" \".join([v_id for v_id in triangle])) for triangle in self.triangles ]\n",
        "        self.writelines(new_filename, self.off_wrap(vertices, faces))\n",
        "\n",
        "    def to_obj(self, new_filename:str):\n",
        "        new_filename = self.new_filename(self.filename, new_filename, Filetype.FT.OBJ)\n",
        "        vertices = [ (\"v \" + \" \".join([xyz for xyz in vertex])) for vertex in self.vertices ]\n",
        "        faces = [ (\"f \"+\" \".join([v_id for v_id in triangle])) for triangle in self.triangles ]\n",
        "        self.writelines(new_filename, vertices + faces)\n",
        "        \n",
        "    def to_stl(self, new_filename:str):\n",
        "        new_filename = self.new_filename(self.filename, new_filename, Filetype.FT.STL)\n",
        "\n",
        "        blocks = [f\"\"\"facet normal 0.0 0.0 0.0\n",
        "    outer loop\n",
        "        vertex {\" \".join([xyz for xyz in self.vertices[ int(triangle[0]) ] ])}\n",
        "        vertex {\" \".join([xyz for xyz in self.vertices[ int(triangle[1]) ] ])}\n",
        "        vertex {\" \".join([xyz for xyz in self.vertices[ int(triangle[2]) ] ])}\n",
        "    endloop\n",
        "endfacet\"\"\" for triangle in self.triangles]\n",
        "        self.writelines(new_filename, self.stl_ascii_wrap(blocks))\n",
        "\n",
        "    def to_stl_bin(self, new_filename:str):\n",
        "        new_filename = self.new_filename(self.filename, new_filename, Filetype.FT.STL)\n",
        "\n",
        "        mesh = [([ float(xyz) for xyz in self.vertices[ int(triangle[0]) ] ], \n",
        "                 [ float(xyz) for xyz in self.vertices[ int(triangle[1]) ] ],\n",
        "                 [ float(xyz) for xyz in self.vertices[ int(triangle[2]) ] ]) for triangle in self.triangles ]     \n",
        "\n",
        "        objects = dict()\n",
        "        objects[0] = {\"mesh\": list( itertools.chain(*mesh) ), \"name\": \"binary file\"}\n",
        "        StlbFileHandler.write_mesh(objects, new_filename)"
      ],
      "metadata": {
        "id": "4EwVa7H9ve2O"
      },
      "execution_count": 7,
      "outputs": []
    },
    {
      "cell_type": "code",
      "source": [
        "x = Parser(\"sample.off\", Filetype.FT.OFF)\n",
        "\n",
        "x.write(Filetype.FT.OBJ)\n",
        "x.write(Filetype.FT.STL)\n",
        "x.write(Filetype.FT.STL, \"sample_bin.stl\", stlb=True)"
      ],
      "metadata": {
        "id": "VnGm-MJRGqlr"
      },
      "execution_count": 8,
      "outputs": []
    },
    {
      "cell_type": "code",
      "source": [
        "# x = Parser(\"cube.stl\", Filetype.FT.STL, stlb=True)\n",
        "\n",
        "# x.write(Filetype.FT.STL, \"cube1.stl\", stlb=True)"
      ],
      "metadata": {
        "id": "g40lqKT__rLB"
      },
      "execution_count": 9,
      "outputs": []
    }
  ]
}